{
  "cells": [
    {
      "cell_type": "code",
      "execution_count": null,
      "metadata": {
        "id": "9XHaPFypuHtl"
      },
      "outputs": [],
      "source": [
        "from typing import NamedTuple, Optional, Tuple, Generator\n",
        "import numpy as np\n",
        "import matplotlib.pyplot as plt\n",
        "from skimage.draw import circle_perimeter_aa"
      ]
    },
    {
      "cell_type": "code",
      "source": [
        "!pip install wandb"
      ],
      "metadata": {
        "colab": {
          "base_uri": "https://localhost:8080/",
          "height": 1000
        },
        "id": "sjNmk0pjh6Z7",
        "outputId": "7897fa8e-69fa-49ba-81e9-2209ea2312c7"
      },
      "execution_count": null,
      "outputs": [
        {
          "output_type": "stream",
          "name": "stdout",
          "text": [
            "Looking in indexes: https://pypi.org/simple, https://us-python.pkg.dev/colab-wheels/public/simple/\n",
            "Collecting wandb\n",
            "  Downloading wandb-0.13.10-py3-none-any.whl (2.0 MB)\n",
            "\u001b[2K     \u001b[90m━━━━━━━━━━━━━━━━━━━━━━━━━━━━━━━━━━━━━━━━\u001b[0m \u001b[32m2.0/2.0 MB\u001b[0m \u001b[31m14.8 MB/s\u001b[0m eta \u001b[36m0:00:00\u001b[0m\n",
            "\u001b[?25hCollecting GitPython>=1.0.0\n",
            "  Downloading GitPython-3.1.30-py3-none-any.whl (184 kB)\n",
            "\u001b[2K     \u001b[90m━━━━━━━━━━━━━━━━━━━━━━━━━━━━━━━━━━━━━━━\u001b[0m \u001b[32m184.0/184.0 KB\u001b[0m \u001b[31m8.9 MB/s\u001b[0m eta \u001b[36m0:00:00\u001b[0m\n",
            "\u001b[?25hRequirement already satisfied: setuptools in /usr/local/lib/python3.8/dist-packages (from wandb) (57.4.0)\n",
            "Requirement already satisfied: protobuf!=4.21.0,<5,>=3.12.0 in /usr/local/lib/python3.8/dist-packages (from wandb) (3.19.6)\n",
            "Requirement already satisfied: psutil>=5.0.0 in /usr/local/lib/python3.8/dist-packages (from wandb) (5.4.8)\n",
            "Requirement already satisfied: requests<3,>=2.0.0 in /usr/local/lib/python3.8/dist-packages (from wandb) (2.25.1)\n",
            "Requirement already satisfied: PyYAML in /usr/local/lib/python3.8/dist-packages (from wandb) (6.0)\n",
            "Collecting docker-pycreds>=0.4.0\n",
            "  Downloading docker_pycreds-0.4.0-py2.py3-none-any.whl (9.0 kB)\n",
            "Requirement already satisfied: appdirs>=1.4.3 in /usr/local/lib/python3.8/dist-packages (from wandb) (1.4.4)\n",
            "Requirement already satisfied: Click!=8.0.0,>=7.0 in /usr/local/lib/python3.8/dist-packages (from wandb) (7.1.2)\n",
            "Collecting pathtools\n",
            "  Downloading pathtools-0.1.2.tar.gz (11 kB)\n",
            "  Preparing metadata (setup.py) ... \u001b[?25l\u001b[?25hdone\n",
            "Requirement already satisfied: typing-extensions in /usr/local/lib/python3.8/dist-packages (from wandb) (4.4.0)\n",
            "Collecting sentry-sdk>=1.0.0\n",
            "  Downloading sentry_sdk-1.15.0-py2.py3-none-any.whl (181 kB)\n",
            "\u001b[2K     \u001b[90m━━━━━━━━━━━━━━━━━━━━━━━━━━━━━━━━━━━━━━\u001b[0m \u001b[32m181.3/181.3 KB\u001b[0m \u001b[31m10.4 MB/s\u001b[0m eta \u001b[36m0:00:00\u001b[0m\n",
            "\u001b[?25hCollecting setproctitle\n",
            "  Downloading setproctitle-1.3.2-cp38-cp38-manylinux_2_5_x86_64.manylinux1_x86_64.manylinux_2_17_x86_64.manylinux2014_x86_64.whl (31 kB)\n",
            "Requirement already satisfied: six>=1.4.0 in /usr/local/lib/python3.8/dist-packages (from docker-pycreds>=0.4.0->wandb) (1.15.0)\n",
            "Collecting gitdb<5,>=4.0.1\n",
            "  Downloading gitdb-4.0.10-py3-none-any.whl (62 kB)\n",
            "\u001b[2K     \u001b[90m━━━━━━━━━━━━━━━━━━━━━━━━━━━━━━━━━━━━━━━━\u001b[0m \u001b[32m62.7/62.7 KB\u001b[0m \u001b[31m3.4 MB/s\u001b[0m eta \u001b[36m0:00:00\u001b[0m\n",
            "\u001b[?25hRequirement already satisfied: chardet<5,>=3.0.2 in /usr/local/lib/python3.8/dist-packages (from requests<3,>=2.0.0->wandb) (4.0.0)\n",
            "Requirement already satisfied: urllib3<1.27,>=1.21.1 in /usr/local/lib/python3.8/dist-packages (from requests<3,>=2.0.0->wandb) (1.24.3)\n",
            "Requirement already satisfied: certifi>=2017.4.17 in /usr/local/lib/python3.8/dist-packages (from requests<3,>=2.0.0->wandb) (2022.12.7)\n",
            "Requirement already satisfied: idna<3,>=2.5 in /usr/local/lib/python3.8/dist-packages (from requests<3,>=2.0.0->wandb) (2.10)\n",
            "Collecting urllib3<1.27,>=1.21.1\n",
            "  Downloading urllib3-1.26.14-py2.py3-none-any.whl (140 kB)\n",
            "\u001b[2K     \u001b[90m━━━━━━━━━━━━━━━━━━━━━━━━━━━━━━━━━━━━━━━\u001b[0m \u001b[32m140.6/140.6 KB\u001b[0m \u001b[31m5.2 MB/s\u001b[0m eta \u001b[36m0:00:00\u001b[0m\n",
            "\u001b[?25hCollecting smmap<6,>=3.0.1\n",
            "  Downloading smmap-5.0.0-py3-none-any.whl (24 kB)\n",
            "Building wheels for collected packages: pathtools\n",
            "  Building wheel for pathtools (setup.py) ... \u001b[?25l\u001b[?25hdone\n",
            "  Created wheel for pathtools: filename=pathtools-0.1.2-py3-none-any.whl size=8806 sha256=e662871f401bf2d8d734378897cdf3abdc6e907b6791dd9330604a6dc740ea60\n",
            "  Stored in directory: /root/.cache/pip/wheels/4c/8e/7e/72fbc243e1aeecae64a96875432e70d4e92f3d2d18123be004\n",
            "Successfully built pathtools\n",
            "Installing collected packages: pathtools, urllib3, smmap, setproctitle, docker-pycreds, sentry-sdk, gitdb, GitPython, wandb\n",
            "  Attempting uninstall: urllib3\n",
            "    Found existing installation: urllib3 1.24.3\n",
            "    Uninstalling urllib3-1.24.3:\n",
            "      Successfully uninstalled urllib3-1.24.3\n",
            "Successfully installed GitPython-3.1.30 docker-pycreds-0.4.0 gitdb-4.0.10 pathtools-0.1.2 sentry-sdk-1.15.0 setproctitle-1.3.2 smmap-5.0.0 urllib3-1.26.14 wandb-0.13.10\n"
          ]
        },
        {
          "output_type": "display_data",
          "data": {
            "application/vnd.colab-display-data+json": {
              "pip_warning": {
                "packages": [
                  "urllib3"
                ]
              }
            }
          },
          "metadata": {}
        }
      ]
    },
    {
      "cell_type": "code",
      "source": [
        "import wandb\n",
        "!wandb login"
      ],
      "metadata": {
        "colab": {
          "base_uri": "https://localhost:8080/"
        },
        "id": "Km9JiKz_QKP2",
        "outputId": "1b4e6720-c76e-40e6-87ac-0a1460a76ef4"
      },
      "execution_count": null,
      "outputs": [
        {
          "output_type": "stream",
          "name": "stdout",
          "text": [
            "\u001b[34m\u001b[1mwandb\u001b[0m: Logging into wandb.ai. (Learn how to deploy a W&B server locally: https://wandb.me/wandb-server)\n",
            "\u001b[34m\u001b[1mwandb\u001b[0m: You can find your API key in your browser here: https://wandb.ai/authorize\n",
            "\u001b[34m\u001b[1mwandb\u001b[0m: Paste an API key from your profile and hit enter, or press ctrl+c to quit: \n",
            "\u001b[34m\u001b[1mwandb\u001b[0m: Appending key for api.wandb.ai to your netrc file: /root/.netrc\n"
          ]
        }
      ]
    },
    {
      "cell_type": "code",
      "execution_count": null,
      "metadata": {
        "id": "QTlgWTNquqk5"
      },
      "outputs": [],
      "source": [
        "class CircleParams(NamedTuple):\n",
        "  row: int\n",
        "  col: int\n",
        "  radius: int"
      ]
    },
    {
      "cell_type": "code",
      "execution_count": null,
      "metadata": {
        "id": "SMyD-uPIu1MM"
      },
      "outputs": [],
      "source": [
        "def draw_circle(img: np.ndarray, row: int, col: int, radius: int) -> np.ndarray:\n",
        "    \"\"\"\n",
        "    Draw a circle in a numpy array, inplace.\n",
        "    The center of the circle is at (row, col) and the radius is given by radius.\n",
        "    The array is assumed to be square.\n",
        "    Any pixels outside the array are ignored.\n",
        "    Circle is white (1) on black (0) background, and is anti-aliased.\n",
        "    \"\"\"\n",
        "    rr, cc, val = circle_perimeter_aa(row, col, radius)\n",
        "    valid = (rr >= 0) & (rr < img.shape[0]) & (cc >= 0) & (cc < img.shape[1])\n",
        "    img[rr[valid], cc[valid]] = val[valid]\n",
        "    return img\n"
      ]
    },
    {
      "cell_type": "code",
      "execution_count": null,
      "metadata": {
        "id": "VEZwGb4XHfss"
      },
      "outputs": [],
      "source": [
        "def noisy_circle(\n",
        "    img_size: int, min_radius: float, max_radius: float, noise_level: float\n",
        ") -> Tuple[np.ndarray, CircleParams]:\n",
        "    \"\"\"\n",
        "    Draw a circle in a numpy array, with normal noise.\n",
        "    \"\"\"\n",
        "\n",
        "    # Create an empty image\n",
        "    img = np.zeros((img_size, img_size))\n",
        "\n",
        "    radius = np.random.randint(min_radius, max_radius)\n",
        "\n",
        "    # x,y coordinates of the center of the circle\n",
        "    row, col = np.random.randint(img_size, size=2)\n",
        "\n",
        "    # Draw the circle inplace\n",
        "    draw_circle(img, row, col, radius)\n",
        "\n",
        "    added_noise = np.random.normal(0.5, noise_level, img.shape)\n",
        "    img += added_noise\n",
        "\n",
        "    return img, CircleParams(row, col, radius)"
      ]
    },
    {
      "cell_type": "code",
      "execution_count": 128,
      "metadata": {
        "id": "0n4CH3hfHihO"
      },
      "outputs": [],
      "source": [
        "def show_circle(img: np.ndarray, row, col):\n",
        "    img = np.squeeze(img,axis=0)\n",
        "    fig, ax = plt.subplots()\n",
        "    ax.imshow(img, cmap='gray')\n",
        "    plt.scatter(col,row)\n",
        "    ax.set_title('Circle')\n",
        "    plt.show()"
      ]
    },
    {
      "cell_type": "code",
      "source": [
        "import torchvision.transforms.functional as TF"
      ],
      "metadata": {
        "id": "n7lRhOnG4MCx"
      },
      "execution_count": null,
      "outputs": []
    },
    {
      "cell_type": "code",
      "source": [
        "class MyMirrorTransform:\n",
        "    \"\"\"Rotate by one of the given angles.\"\"\"\n",
        "    def __init__(self, setting):\n",
        "        self.setting = setting\n",
        "        self.parameters = self.setting.Mirror\n",
        "        self.apply_prob = np.random.rand(1)\n",
        "\n",
        "    def apply_image(self, image):\n",
        "        return TF.hflip(image)\n",
        "\n",
        "    def apply_keypoints(self,image,col):\n",
        "      mid_point = int(image.shape[1]/2)\n",
        "      if col > mid_point:\n",
        "          distance = col - mid_point\n",
        "          col = mid_point - distance\n",
        "      else:\n",
        "          distance = mid_point - col\n",
        "          col = mid_point + distance\n",
        "      return col\n",
        "\n",
        "    def __call__(self, image, col):\n",
        "        if self.parameters['prob'] > self.apply_prob:\n",
        "          return self.apply_image(image), self.apply_keypoints(image,col)\n",
        "        return image,col"
      ],
      "metadata": {
        "id": "K5g7CMvu1oXC"
      },
      "execution_count": null,
      "outputs": []
    },
    {
      "cell_type": "code",
      "execution_count": null,
      "metadata": {
        "id": "Qu0E0ImxImdz"
      },
      "outputs": [],
      "source": [
        "def generate_examples(\n",
        "    noise_level: float = 0.5,\n",
        "    img_size: int = 100,\n",
        "    min_radius: Optional[int] = None,\n",
        "    max_radius: Optional[int] = None,\n",
        "    dataset_path: str = 'ds',\n",
        ") -> Generator[Tuple[np.ndarray, CircleParams], None, None]:\n",
        "    if not min_radius:\n",
        "        min_radius = img_size // 10\n",
        "    if not max_radius:\n",
        "        max_radius = img_size // 2\n",
        "    assert max_radius > min_radius, \"max_radius must be greater than min_radius\"\n",
        "    assert img_size > max_radius, \"size should be greater than max_radius\"\n",
        "    assert noise_level >= 0, \"noise should be non-negative\"\n",
        "\n",
        "    params = f\"{noise_level=}, {img_size=}, {min_radius=}, {max_radius=}, {dataset_path=}\"\n",
        "    print(f\"Using parameters: {params}\")\n",
        "    while True:\n",
        "        img, params = noisy_circle(\n",
        "            img_size=img_size, min_radius=min_radius, max_radius=max_radius, noise_level=noise_level\n",
        "        )\n",
        "        yield img, params"
      ]
    },
    {
      "cell_type": "code",
      "execution_count": null,
      "metadata": {
        "id": "UIB0QUaLImsv"
      },
      "outputs": [],
      "source": [
        "def iou(a: CircleParams, b: CircleParams) -> float:\n",
        "    \"\"\"Calculate the intersection over union of two circles\"\"\"\n",
        "    r1, r2 = a.radius, b.radius\n",
        "    d = np.linalg.norm(np.array([a.row, a.col]) - np.array([b.row, b.col]))\n",
        "    if d > r1 + r2:\n",
        "        return 0\n",
        "    if d <= abs(r1 - r2):\n",
        "        return 1\n",
        "    r1_sq, r2_sq = r1**2, r2**2\n",
        "    d1 = (r1_sq - r2_sq + d**2) / (2 * d)\n",
        "    d2 = d - d1\n",
        "    h1 = r1_sq * np.arccos(d1 / r1)\n",
        "    h2 = d1 * np.sqrt(r1_sq - d1**2)\n",
        "    h3 = r2_sq * np.arccos(d2 / r2)\n",
        "    h4 = d2 * np.sqrt(r2_sq - d2**2)\n",
        "    intersection = h1 + h2 + h3 + h4\n",
        "    union = np.pi * (r1_sq + r2_sq) - intersection\n",
        "    return intersection / union"
      ]
    },
    {
      "cell_type": "code",
      "execution_count": null,
      "metadata": {
        "id": "4QrliDCcKWCO"
      },
      "outputs": [],
      "source": [
        "from skimage import data, img_as_float\n",
        "from skimage.restoration import denoise_nl_means, estimate_sigma\n",
        "from skimage.metrics import peak_signal_noise_ratio\n",
        "from skimage.util import random_noise"
      ]
    },
    {
      "cell_type": "code",
      "execution_count": null,
      "metadata": {
        "id": "RN_ru5JBTdqz"
      },
      "outputs": [],
      "source": [
        "class Setting():\n",
        "  def __init__(self):\n",
        "    self.seed = 123\n",
        "    self.pretrained = '/content/drive/MyDrive/coding_challenge/model1_20.pth'  # Pretrained model weights\n",
        "    self.checkpoint = ''  \n",
        "    self.verbose_freq = 20  # Frequency to print training metrics\n",
        "    self.valid_freq = 50  # Frequency to perform validation step\n",
        "    self.n_epochs = 25\n",
        "    self.batch_size = 16\n",
        "    \n",
        "\n",
        "    ############################################################################################################\n",
        "    self.PATHDATA = '/content/drive/MyDrive/coding_challenge'\n",
        "    self.DATA_TRAIN = self.PATHDATA + '/train'\n",
        "    self.DATA_VAL  = self.PATHDATA + '/validation'\n",
        "    self.DATA_TEST = self.PATHDATA + '/test'\n",
        "    self.LOW_TRAIN  = self.PATHDATA + '/low_train'\n",
        "    self.LOW_VAL  = self.PATHDATA + '/low_validation'\n",
        "    self.LOW_TEST = self.PATHDATA + '/low_test'\n",
        "    ############################################################################################################\n",
        "\n",
        "    self.opt_hyp = {\n",
        "      'adam': True,\n",
        "      'nbs': 16,\n",
        "      'lr0': 0.01,  # 0.01,\n",
        "      'momentum': 0.87,\n",
        "      'weight_decay': 0.00005,  # 0.0005,\n",
        "      }\n",
        "\n",
        "    self.Mirror = {\n",
        "          'prob': 1,\n",
        "    }\n",
        "\n",
        "    self.Rotate = {\n",
        "      'prob': 1,\n",
        "      'range': (-20, 20)\n",
        "    }\n",
        "\n",
        "    self.Shift = {\n",
        "      'prob': 1,\n",
        "      'range': {\n",
        "      'x': (-5, 5),\n",
        "      'y': (-3, 3)\n",
        "      }\n",
        "    }\n"
      ]
    },
    {
      "cell_type": "code",
      "source": [
        "wandb.init(project = 'Coding_challenge',\n",
        "           config = {'learning_rate': setting.opt_hyp['lr0'],\n",
        "                     'batch_size': setting.batch_size,\n",
        "                     'epochs': setting.n_epochs,\n",
        "                     'weight_decay': setting.opt_hyp['weight_decay']})"
      ],
      "metadata": {
        "id": "DUKNcw3MboiD",
        "colab": {
          "base_uri": "https://localhost:8080/",
          "height": 230
        },
        "outputId": "8eba3e5f-89f9-4298-b185-f687562d9df7"
      },
      "execution_count": null,
      "outputs": [
        {
          "output_type": "display_data",
          "data": {
            "text/plain": [
              "<IPython.core.display.HTML object>"
            ],
            "text/html": [
              "Finishing last run (ID:tryjsufr) before initializing another..."
            ]
          },
          "metadata": {}
        },
        {
          "output_type": "display_data",
          "data": {
            "text/plain": [
              "<IPython.core.display.HTML object>"
            ],
            "text/html": [
              "Waiting for W&B process to finish... <strong style=\"color:green\">(success).</strong>"
            ]
          },
          "metadata": {}
        },
        {
          "output_type": "display_data",
          "data": {
            "text/plain": [
              "<IPython.core.display.HTML object>"
            ],
            "text/html": [
              " View run <strong style=\"color:#cdcd00\">patient-dove-3</strong> at: <a href='https://wandb.ai/utkutest61/coding_challenge/runs/tryjsufr' target=\"_blank\">https://wandb.ai/utkutest61/coding_challenge/runs/tryjsufr</a><br/>Synced 4 W&B file(s), 0 media file(s), 0 artifact file(s) and 0 other file(s)"
            ]
          },
          "metadata": {}
        },
        {
          "output_type": "display_data",
          "data": {
            "text/plain": [
              "<IPython.core.display.HTML object>"
            ],
            "text/html": [
              "Find logs at: <code>./wandb/run-20230215_011536-tryjsufr/logs</code>"
            ]
          },
          "metadata": {}
        },
        {
          "output_type": "display_data",
          "data": {
            "text/plain": [
              "<IPython.core.display.HTML object>"
            ],
            "text/html": [
              "Successfully finished last run (ID:tryjsufr). Initializing new run:<br/>"
            ]
          },
          "metadata": {}
        },
        {
          "output_type": "display_data",
          "data": {
            "text/plain": [
              "<IPython.core.display.HTML object>"
            ],
            "text/html": [
              "Tracking run with wandb version 0.13.10"
            ]
          },
          "metadata": {}
        },
        {
          "output_type": "display_data",
          "data": {
            "text/plain": [
              "<IPython.core.display.HTML object>"
            ],
            "text/html": [
              "Run data is saved locally in <code>/content/wandb/run-20230215_011641-uox99fzu</code>"
            ]
          },
          "metadata": {}
        },
        {
          "output_type": "display_data",
          "data": {
            "text/plain": [
              "<IPython.core.display.HTML object>"
            ],
            "text/html": [
              "Syncing run <strong><a href='https://wandb.ai/utkutest61/coding_challenge/runs/uox99fzu' target=\"_blank\">inviting-flower-4</a></strong> to <a href='https://wandb.ai/utkutest61/coding_challenge' target=\"_blank\">Weights & Biases</a> (<a href='https://wandb.me/run' target=\"_blank\">docs</a>)<br/>"
            ]
          },
          "metadata": {}
        },
        {
          "output_type": "display_data",
          "data": {
            "text/plain": [
              "<IPython.core.display.HTML object>"
            ],
            "text/html": [
              " View project at <a href='https://wandb.ai/utkutest61/coding_challenge' target=\"_blank\">https://wandb.ai/utkutest61/coding_challenge</a>"
            ]
          },
          "metadata": {}
        },
        {
          "output_type": "display_data",
          "data": {
            "text/plain": [
              "<IPython.core.display.HTML object>"
            ],
            "text/html": [
              " View run at <a href='https://wandb.ai/utkutest61/coding_challenge/runs/uox99fzu' target=\"_blank\">https://wandb.ai/utkutest61/coding_challenge/runs/uox99fzu</a>"
            ]
          },
          "metadata": {}
        },
        {
          "output_type": "execute_result",
          "data": {
            "text/html": [
              "<button onClick=\"this.nextSibling.style.display='block';this.style.display='none';\">Display W&B run</button><iframe src='https://wandb.ai/utkutest61/coding_challenge/runs/uox99fzu?jupyter=true' style='border:none;width:100%;height:420px;display:none;'></iframe>"
            ],
            "text/plain": [
              "<wandb.sdk.wandb_run.Run at 0x7f5cd32322e0>"
            ]
          },
          "metadata": {},
          "execution_count": 39
        }
      ]
    },
    {
      "cell_type": "code",
      "execution_count": null,
      "metadata": {
        "colab": {
          "base_uri": "https://localhost:8080/"
        },
        "id": "ec-KgdcgFQhh",
        "outputId": "3e15ee52-3dbf-407a-d61f-e01e07c31abf"
      },
      "outputs": [
        {
          "output_type": "stream",
          "name": "stdout",
          "text": [
            "Mounted at /content/drive\n"
          ]
        }
      ],
      "source": [
        "from google.colab import drive\n",
        "drive.mount('/content/drive')"
      ]
    },
    {
      "cell_type": "code",
      "execution_count": null,
      "metadata": {
        "colab": {
          "base_uri": "https://localhost:8080/"
        },
        "id": "j34-KfgK98AV",
        "outputId": "3fe1dd2b-c7d4-4930-a0ca-f5ed6e5eac7c"
      },
      "outputs": [
        {
          "output_type": "stream",
          "name": "stdout",
          "text": [
            "Using parameters: noise_level=0.5, img_size=100, min_radius=10, max_radius=50, dataset_path='ds'\n"
          ]
        }
      ],
      "source": [
        "generator = generate_examples()\n",
        "\n",
        "\n",
        "directory  = '/content/drive/MyDrive/coding_challenge/train'\n",
        "for i in range(0,3000):\n",
        "\n",
        "  img,params = next(generator)\n",
        "\n",
        "  image = np.array(img, dtype =np.float32)\n",
        "  row = np.array(params[0], dtype=np.int32)\n",
        "  col = np.array(params[1] , dtype = np.int32)\n",
        "  radius = np.array(params[2], dtype = np.int32)\n",
        "  name = directory + \"/\" + \"Circle_train\" + str(i)\n",
        "  np.savez(image = image, x = row, y = col, r = radius, file = name )"
      ]
    },
    {
      "cell_type": "code",
      "execution_count": null,
      "metadata": {
        "id": "y2D6mtv69KIQ"
      },
      "outputs": [],
      "source": [
        "def np_to_circleparams(labels):\n",
        "  labels = np.transpose(labels)\n",
        "  x,y,r = labels\n",
        "  output = []\n",
        "  for curr_row,curr_col,curr_radius in zip(x,y,r):\n",
        "    output.append(CircleParams(curr_row, curr_col, curr_radius))\n",
        "  return output"
      ]
    },
    {
      "cell_type": "code",
      "execution_count": 125,
      "metadata": {
        "id": "danGd0tzOFtB"
      },
      "outputs": [],
      "source": [
        "import os\n",
        "import cv2\n",
        "import numpy as np\n",
        "import matplotlib.pyplot as plt\n",
        "import torch\n",
        "import torchvision\n",
        "import torch.nn as nn\n",
        "from torch.utils.data import Dataset\n",
        "import torch.nn.functional as F\n",
        "from torchvision.transforms import ToTensor\n",
        "from torch.utils.data import DataLoader\n",
        "from tqdm import tqdm\n",
        "import math\n",
        "from PIL import Image"
      ]
    },
    {
      "cell_type": "code",
      "source": [
        "arrays = np.load('/content/drive/MyDrive/coding_challenge/train/Circle_val2.npz')\n",
        "x = arrays['x']\n",
        "y = arrays['y']\n",
        "r = arrays['r']\n",
        "image = arrays['image']\n",
        "image = np.expand_dims(image,axis=0)\n",
        "show_circle(image, x, y)\n",
        "image = torch.tensor(image)\n",
        "\n",
        "image,col = mirror(image,y)\n",
        "show_circle(image, x,col)\n"
      ],
      "metadata": {
        "colab": {
          "base_uri": "https://localhost:8080/",
          "height": 545
        },
        "id": "wSEzL_al3Iep",
        "outputId": "da3180a9-dc70-4303-f855-f672fdfdea42"
      },
      "execution_count": 129,
      "outputs": [
        {
          "output_type": "display_data",
          "data": {
            "text/plain": [
              "<Figure size 432x288 with 1 Axes>"
            ],
            "image/png": "[encoded data removed]"
          },
          "metadata": {
            "needs_background": "light"
          }
        },
        {
          "output_type": "display_data",
          "data": {
            "text/plain": [
              "<Figure size 432x288 with 1 Axes>"
            ],
            "image/png": "[encoded data removed]"
          },
          "metadata": {
            "needs_background": "light"
          }
        }
      ]
    },
    {
      "cell_type": "code",
      "execution_count": null,
      "metadata": {
        "id": "sy_C6KL5IXNC"
      },
      "outputs": [],
      "source": [
        "class InputPipeline(Dataset):\n",
        "  def __init__(self, setting, data_dir, train=True):\n",
        "    super().__init__()\n",
        "    self.data_dir = data_dir\n",
        "\n",
        "    self.files = os.listdir(self.data_dir)\n",
        "    self.train = train\n",
        "\n",
        "    self.mirror = MyMirrorTransform(setting)\n",
        "  \n",
        "  def __len__(self):\n",
        "    return len(self.files)\n",
        "\n",
        "  def load(self,file: str):\n",
        "    '''\n",
        "      Load npz files to extract image and parameters\n",
        "    '''\n",
        "\n",
        "    file = os.path.join(self.data_dir,file)\n",
        "    arrays = np.load(file)\n",
        "    image = arrays['image']\n",
        "\n",
        "    x = arrays['x']\n",
        "    y = arrays['y']\n",
        "    r = arrays['r']\n",
        "    return image,x,y,r\n",
        "\n",
        "  def visualize(self, image: np.ndarray):\n",
        "    '''\n",
        "      Helper function to visualize \n",
        "    '''\n",
        "    fig, ax = plt.subplots()\n",
        "    ax.imshow(img, cmap='gray')\n",
        "    ax.set_title('Circle')\n",
        "    plt.show()\n",
        "\n",
        "  def preprocess_onlyGaussian(self, image: np.ndarray, kernel_size = (5,5)):\n",
        "    '''\n",
        "    Preprocess: Remove Gaussian Noise & Normalize\n",
        "    '''\n",
        "    median0 = cv2.GaussianBlur(image.astype('float32'), kernel_size, 1)\n",
        "\n",
        "    image = (median0 - np.min(median0)) / (np.max(median0) - np.min(median0))\n",
        "\n",
        "    image = np.expand_dims(image, axis=0)\n",
        "    return image\n",
        "\n",
        "  def preprocess(self, image: np.ndarray, kernel_size = (5,5), sigma = 0.08):   \n",
        "    '''\n",
        "    Preprocess: Remove Gaussian Noise, Non-Local means filter and Normalize\n",
        "    '''  \n",
        "    median0 = cv2.GaussianBlur(image.astype('float32'), kernel_size, 1)\n",
        "    noisy = random_noise(median0.astype('float32'), var=sigma**2)   \n",
        "\n",
        "    sigma_est = np.mean(estimate_sigma(noisy))    \n",
        "    patch_kw = dict(patch_size=5,patch_distance=6)    \n",
        "    image = denoise_nl_means(noisy, h=0.8 * sigma_est, sigma=sigma_est,\n",
        "                            fast_mode=False, **patch_kw) \n",
        "    image = np.expand_dims(image, axis=0)\n",
        "    return image\n",
        "    \n",
        "  def normalize(self, image: np.ndarray, kernel_size = (5,5)):\n",
        "     image = (image - np.min(image)) / (np.max(image) - np.min(image))\n",
        "     image = np.expand_dims(image, axis=0)\n",
        "\n",
        "     return image\n",
        "\n",
        "  def augment(self,image,col):\n",
        "    image, col = mirror(image,y)\n",
        "    \n",
        "    return image, col\n",
        "  def __getitem__(self, idx, visualize=False):\n",
        "    file = self.files[idx]\n",
        "\n",
        "    image, x, y, r = self.load(file)\n",
        "\n",
        "    if visualize:\n",
        "      self.visualize(image)\n",
        "\n",
        "    image = self.preprocess_onlyGaussian(image)\n",
        "\n",
        "    image = torch.tensor(image, dtype=torch.float32)\n",
        "    x = torch.tensor(x, dtype=torch.int32)\n",
        "    y = torch.tensor(y, dtype=torch.int32)\n",
        "    radius = torch.tensor(r, dtype=torch.int32)\n",
        "\n",
        "    if self.train:\n",
        "      image, y = self.augment(image, y)\n",
        "    \n",
        "    targets = (x, y, radius)\n",
        "    targets = torch.tensor(targets)\n",
        "    return image, targets\n"
      ]
    },
    {
      "cell_type": "code",
      "execution_count": null,
      "metadata": {
        "id": "6MgJ6kdVicWV"
      },
      "outputs": [],
      "source": [
        "def compute_average_iou(targets, outputs):\n",
        "  arr = []\n",
        "  for curr_target,curr_output in zip(targets,outputs):\n",
        "    arr.append(iou(curr_target, curr_output))\n",
        "  return np.sum(arr)"
      ]
    },
    {
      "cell_type": "code",
      "execution_count": null,
      "metadata": {
        "id": "r2MaPfHTRzUh"
      },
      "outputs": [],
      "source": [
        "def get_dataloader(setting, train):\n",
        "    '''\n",
        "\t\tGet train/valid dataloader\n",
        "\t'''\n",
        "    dataset = InputPipeline(setting, setting.DATA_TRAIN if train else setting.DATA_VAL)\n",
        "    dataloader = DataLoader(\n",
        "        dataset,\n",
        "        batch_size=setting.batch_size,\n",
        "    )\n",
        "    return dataloader"
      ]
    },
    {
      "cell_type": "code",
      "execution_count": null,
      "metadata": {
        "id": "0XAONLi4e5cF"
      },
      "outputs": [],
      "source": [
        "def get_low_dataloader(setting, train):\n",
        "  '''\n",
        "\t\tGet train/valid dataloader for lower noise images\n",
        "\t'''\n",
        "\n",
        "  dataset = InputPipeline(setting, setting.LOW_TRAIN if train else setting.LOW_VAL)\n",
        "  dataloader = DataLoader(\n",
        "        dataset,\n",
        "        batch_size=setting.batch_size,\n",
        "    )\n",
        "  return dataloader\n"
      ]
    },
    {
      "cell_type": "code",
      "execution_count": null,
      "metadata": {
        "id": "xt8MpTl7YnCn"
      },
      "outputs": [],
      "source": [
        "def get_optimizer(hyp, network):\n",
        "    '''\n",
        "\t\tGet optimizer with custom weight decay \n",
        "\t  '''\n",
        "\n",
        "    g0, g1, g2 = [], [], []  # optimizer parameter groups\n",
        "    for v in network.modules():\n",
        "        if hasattr(v, 'bias') and isinstance(v.bias, nn.Parameter):  # bias\n",
        "            g2.append(v.bias)\n",
        "        if isinstance(v, nn.BatchNorm2d):  # weight (no decay)\n",
        "            g0.append(v.weight)\n",
        "        elif hasattr(v, 'weight') and isinstance(v.weight, nn.Parameter):  # weight (with decay)\n",
        "            g1.append(v.weight)\n",
        "\n",
        "    if hyp['adam']:\n",
        "        optimizer = torch.optim.Adam(g0, lr=hyp['lr0'], betas=(hyp['momentum'], 0.999))  # adjust beta1 to momentum\n",
        "    else:\n",
        "        optimizer = torch.optim.SGD(g0, lr=hyp['lr0'], momentum=hyp['momentum'], nesterov=True)\n",
        "\n",
        "    optimizer.add_param_group({'params': g1, 'weight_decay': hyp['weight_decay']})  # add g1 with weight_decay\n",
        "    optimizer.add_param_group({'params': g2})  # add g2 (biases)\n",
        "\n",
        "    del g0, g1, g2\n",
        "\n",
        "    return optimizer"
      ]
    },
    {
      "cell_type": "code",
      "execution_count": null,
      "metadata": {
        "id": "NYh54Js-eC9U"
      },
      "outputs": [],
      "source": [
        "class Network(nn.Module):\n",
        "    def __init__(self):\n",
        "        super(Network, self).__init__()\n",
        "        self.conv1 = nn.Conv2d(1, 64, 3, padding=1)\n",
        "        self.bn1 = nn.BatchNorm2d(64)\n",
        "        self.pool1 = nn.MaxPool2d(2, 2)\n",
        "        self.conv2 = nn.Conv2d(64, 128, 3, padding=1)\n",
        "        self.bn2 = nn.BatchNorm2d(128)\n",
        "        self.pool2 = nn.MaxPool2d(2, 2)\n",
        "        self.conv3 = nn.Conv2d(128, 256, 3, padding=1)\n",
        "        self.bn3 = nn.BatchNorm2d(256)\n",
        "        self.pool3 = nn.MaxPool2d(2, 2)\n",
        "        self.conv4 = nn.Conv2d(256, 512, 3, padding=1)\n",
        "        self.bn4 = nn.BatchNorm2d(512)\n",
        "        self.pool4 = nn.MaxPool2d(2, 2)\n",
        "        self.fc1 = nn.Linear( 512 * 6 * 6, 256)\n",
        "        self.fc2 = nn.Linear(256, 128)\n",
        "        self.fc6 = nn.Linear(128, 64)\n",
        "        self.fc4 = nn.Linear(64, 64)\n",
        "        self.fc3 = nn.Linear(64, 3)\n",
        "\n",
        "    def forward(self, x):\n",
        "        x = self.pool1(F.relu(self.bn1(self.conv1(x))))\n",
        "        x = self.pool2(F.relu(self.bn2(self.conv2(x))))\n",
        "        x = self.pool3(F.relu(self.bn3(self.conv3(x))))\n",
        "        x = self.pool4(F.relu(self.bn4(self.conv4(x))))\n",
        "        x = x = x.view(-1, 512 * 6 * 6)\n",
        "        x = F.relu(self.fc1(x))\n",
        "        x = F.relu(self.fc2(x))\n",
        "        x = F.relu(self.fc6(x))\n",
        "        x = F.relu(self.fc4(x))\n",
        "        x = self.fc3(x)\n",
        "        return x"
      ]
    },
    {
      "cell_type": "code",
      "execution_count": null,
      "metadata": {
        "id": "_ffFdaAnDiHT"
      },
      "outputs": [],
      "source": [
        "def get_network(setting, device):\n",
        "    network = Network()\n",
        "    if setting.pretrained != '':\n",
        "        pretrained_weights = torch.load(setting.pretrained)\n",
        "        network.load_state_dict(pretrained_weights)\n",
        "    return network.to(device)"
      ]
    },
    {
      "cell_type": "code",
      "execution_count": null,
      "metadata": {
        "id": "kX9nyn0C4Xmf"
      },
      "outputs": [],
      "source": [
        "def mae_loss(pred, target):\n",
        "    x_pred, y_pred, r_pred = pred[:, 0], pred[:, 1], pred[:, 2]\n",
        "    x_target, y_target, r_target = target[:, 0], target[:, 1], target[:, 2]\n",
        "    x_error = torch.mean(torch.abs(x_pred - x_target))\n",
        "    y_error = torch.mean(torch.abs(y_pred - y_target))\n",
        "    r_error = torch.mean(torch.abs(r_pred - r_target))\n",
        "    return x_error + y_error + r_error"
      ]
    },
    {
      "cell_type": "code",
      "execution_count": null,
      "metadata": {
        "colab": {
          "base_uri": "https://localhost:8080/"
        },
        "id": "AYbk6JSA35Ak",
        "outputId": "ba8a141e-3057-4bc3-fcbd-cb1a1384e9d4"
      },
      "outputs": [
        {
          "output_type": "execute_result",
          "data": {
            "text/plain": [
              "38"
            ]
          },
          "metadata": {},
          "execution_count": 33
        }
      ],
      "source": [
        "valid_loader = get_dataloader(setting, train = False)\n",
        "nb = len(valid_loader)\n",
        "nb"
      ]
    },
    {
      "cell_type": "code",
      "execution_count": null,
      "metadata": {
        "id": "XufChUex4jp2"
      },
      "outputs": [],
      "source": [
        "setting = Setting()\n",
        "\n",
        "device = torch.device('cuda')\n",
        "\n",
        "train_loader = get_dataloader(setting, train= True)\n",
        "valid_loader = get_dataloader(setting, train = False)\n",
        "network = get_network(setting, device)\n",
        "\n",
        "optimizer = get_optimizer(setting.opt_hyp, network)\n",
        "\n",
        "nb = len(train_loader)\n",
        "\n",
        "scheduler = torch.optim.lr_scheduler.StepLR(optimizer, step_size=5, gamma=0.3) # 5, 0.5 best result so far\n",
        "\n",
        "for epoch in range(0, setting.n_epochs):\n",
        "  least_loss = math.inf\n",
        "  train_loss = 0.0\n",
        "  valid_loss = 0.0\n",
        "\n",
        "  network.train()\n",
        "\n",
        "  pbar = enumerate(train_loader)\n",
        "  pbar = tqdm(pbar, desc=f'training epoch {epoch}', total=nb)\n",
        "\n",
        "  for i, item in pbar:\n",
        "\n",
        "    image, targets = item\n",
        "\n",
        "    image = image.to(device)\n",
        "    targets = targets.to(device)\n",
        "    optimizer.zero_grad()\n",
        "    outputs = network(image)\n",
        "    loss = mae_loss(outputs, targets)\n",
        "    loss.backward()\n",
        "    optimizer.step()\n",
        "    train_loss += loss.item()\n",
        "\n",
        "  \n",
        "  network.eval()\n",
        "  with torch.no_grad():\n",
        "    for i, data in enumerate(valid_loader):\n",
        "      images, labels = data\n",
        "      images = images.to(device)\n",
        "      labels = labels.to(device)\n",
        "      outputs = network(images)\n",
        "      loss = mae_loss(outputs, labels)\n",
        "      valid_loss += loss.item()\n",
        "      # Calculate the average loss for this epoch\n",
        "  scheduler.step()\n",
        "\n",
        "  train_loss = train_loss / len(train_loader)\n",
        "  valid_loss = valid_loss / len(valid_loader)\n",
        "\n",
        "  wandb.watch(network, log='all', log_freq=10 )\n",
        "\n",
        "  wandb.log({'train_loss': train_loss, 'val_loss':valid_loss},  )\n",
        "\n",
        "  if valid_loss < least_loss:\n",
        "    least_loss = valid_loss\n",
        "    model_path = f'model1_{epoch}.pth'\n",
        "    torch.save(network.state_dict(), model_path)\n",
        "\n",
        "\n",
        "  print('Epoch: {} \\tTraining Loss: {:.6f} \\tValidation Loss: {:.6f}'.format(\n",
        "    epoch, train_loss, valid_loss\n",
        "  ))\n",
        "\n",
        "\n",
        "\n",
        "\n"
      ]
    },
    {
      "cell_type": "code",
      "execution_count": null,
      "metadata": {
        "colab": {
          "base_uri": "https://localhost:8080/"
        },
        "id": "SROkepDe_N2_",
        "outputId": "35bc52df-d4a3-43f3-b1f2-203306609899"
      },
      "outputs": [
        {
          "output_type": "stream",
          "name": "stdout",
          "text": [
            "0.9622757528004823\n"
          ]
        }
      ],
      "source": [
        "setting = Setting()\n",
        "setting.DATA_VAL = setting.PATHDATA + '/test'\n",
        "device = torch.device('cpu', 0)\n",
        "setting.batch_size =1\n",
        "model = get_network(setting,device)\n",
        "model.eval() \n",
        "\n",
        "test_dataloader = get_dataloader(setting, train=False)\n",
        "\n",
        "iou_score = 0\n",
        "with torch.no_grad():\n",
        "  for i, data in enumerate(test_dataloader):\n",
        "    images, labels = data\n",
        "    outputs = model(images)\n",
        "    labels = np_to_circleparams(labels)\n",
        "    outputs = np_to_circleparams(outputs)\n",
        "    iou_score += compute_average_iou(labels,outputs)\n",
        "\n",
        "print(iou_score/(len(test_dataloader)*setting.batch_size))"
      ]
    }
  ],
  "metadata": {
    "colab": {
      "provenance": []
    },
    "gpuClass": "standard",
    "kernelspec": {
      "display_name": "Python 3",
      "name": "python3"
    },
    "language_info": {
      "name": "python"
    },
    "accelerator": "GPU"
  },
  "nbformat": 4,
  "nbformat_minor": 0
}